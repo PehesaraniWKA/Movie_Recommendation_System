{
 "cells": [
  {
   "cell_type": "markdown",
   "id": "ed286a32",
   "metadata": {},
   "source": [
    "# Import Libraries"
   ]
  },
  {
   "cell_type": "code",
   "execution_count": null,
   "id": "7ef925c4",
   "metadata": {},
   "outputs": [],
   "source": [
    "import numpy as np\n",
    "import pandas as pd\n",
    "import matplotlib.pyplot as plt\n",
    "import os"
   ]
  },
  {
   "cell_type": "markdown",
   "id": "a9fac7ec",
   "metadata": {},
   "source": [
    "# Load the dataset"
   ]
  },
  {
   "cell_type": "code",
   "execution_count": null,
   "id": "97fd11a0",
   "metadata": {},
   "outputs": [],
   "source": [
    "movies = pd.read_csv('data/tmdb_5000_movies.csv')\n",
    "credits = pd.read_csv('data/tmdb_5000_credits.csv')"
   ]
  },
  {
   "cell_type": "code",
   "execution_count": null,
   "id": "3b33ca98",
   "metadata": {},
   "outputs": [],
   "source": [
    "# view first 2 rows of movies\n",
    "movies.head(2)"
   ]
  },
  {
   "cell_type": "code",
   "execution_count": null,
   "id": "f0c24ad2",
   "metadata": {},
   "outputs": [],
   "source": [
    "# view first 2 rows of credits\n",
    "credits.head(2)"
   ]
  },
  {
   "cell_type": "code",
   "execution_count": null,
   "id": "5ec6d66a",
   "metadata": {},
   "outputs": [],
   "source": [
    "# check how many rows and columns avalable in movies dataset\n",
    "movies.shape"
   ]
  },
  {
   "cell_type": "code",
   "execution_count": null,
   "id": "c397221d",
   "metadata": {},
   "outputs": [],
   "source": [
    "# check how many rows and columns avalable in credits dataset\n",
    "credits.shape"
   ]
  },
  {
   "cell_type": "markdown",
   "id": "117cad7b",
   "metadata": {},
   "source": [
    "# Merge Datasets"
   ]
  },
  {
   "cell_type": "code",
   "execution_count": null,
   "id": "a4443780",
   "metadata": {},
   "outputs": [],
   "source": [
    "movies = movies.merge(credits, on='title')"
   ]
  },
  {
   "cell_type": "code",
   "execution_count": null,
   "id": "a653638a",
   "metadata": {},
   "outputs": [],
   "source": [
    "# view first 2 rows of new movies dataset\n",
    "movies.head(2)"
   ]
  },
  {
   "cell_type": "code",
   "execution_count": null,
   "id": "1b4e4482",
   "metadata": {},
   "outputs": [],
   "source": [
    "# check how many rows and columns avalable in new movies dataset\n",
    "movies.shape"
   ]
  },
  {
   "cell_type": "markdown",
   "id": "3a9b4c5a",
   "metadata": {},
   "source": [
    "# Preprocess the data"
   ]
  },
  {
   "cell_type": "code",
   "execution_count": null,
   "id": "dec642e7",
   "metadata": {},
   "outputs": [],
   "source": [
    "# check what are the clomns in new movies dataset\n",
    "movies.columns"
   ]
  },
  {
   "cell_type": "code",
   "execution_count": null,
   "id": "9b0677ec",
   "metadata": {},
   "outputs": [],
   "source": [
    "# choose only some needed colomns only\n",
    "movies = movies[['movie_id', 'title', 'overview', 'genres', 'keywords', 'cast', 'crew', 'vote_count']]"
   ]
  },
  {
   "cell_type": "code",
   "execution_count": null,
   "id": "c417bc53",
   "metadata": {},
   "outputs": [],
   "source": [
    "# print new movie dataset\n",
    "movies"
   ]
  },
  {
   "cell_type": "code",
   "execution_count": null,
   "id": "ceb8796b",
   "metadata": {},
   "outputs": [],
   "source": [
    "# check no of colomns and rows\n",
    "movies.shape"
   ]
  },
  {
   "cell_type": "markdown",
   "id": "b40e3485",
   "metadata": {},
   "source": [
    "Remove missing values"
   ]
  },
  {
   "cell_type": "code",
   "execution_count": null,
   "id": "d0cc783a",
   "metadata": {},
   "outputs": [],
   "source": [
    "# check missing values\n",
    "movies.isnull().sum()"
   ]
  },
  {
   "cell_type": "code",
   "execution_count": null,
   "id": "181eabac",
   "metadata": {},
   "outputs": [],
   "source": [
    "# drop missing values\n",
    "movies.dropna(inplace=True)"
   ]
  },
  {
   "cell_type": "code",
   "execution_count": null,
   "id": "1a75d39e",
   "metadata": {},
   "outputs": [],
   "source": [
    "# check again missing values in here\n",
    "movies.isnull().sum()"
   ]
  },
  {
   "cell_type": "code",
   "execution_count": null,
   "id": "cd4c8c79",
   "metadata": {},
   "outputs": [],
   "source": [
    "# check no of colomns and rows (without missing values)\n",
    "movies.shape"
   ]
  },
  {
   "cell_type": "markdown",
   "id": "76de73e0",
   "metadata": {},
   "source": [
    "Remove duplicate values"
   ]
  },
  {
   "cell_type": "code",
   "execution_count": null,
   "id": "a043c11d",
   "metadata": {},
   "outputs": [],
   "source": [
    "# check duplicated movies in here\n",
    "movies.duplicated().sum()"
   ]
  },
  {
   "cell_type": "markdown",
   "id": "396fa86e",
   "metadata": {},
   "source": [
    "Covert Genres"
   ]
  },
  {
   "cell_type": "code",
   "execution_count": null,
   "id": "12321368",
   "metadata": {},
   "outputs": [],
   "source": [
    "# get first genres\n",
    "movies.iloc[0]['genres']"
   ]
  },
  {
   "cell_type": "code",
   "execution_count": null,
   "id": "03c63fc5",
   "metadata": {},
   "outputs": [],
   "source": [
    "# check type of genres\n",
    "type(movies.iloc[0]['genres'])"
   ]
  },
  {
   "cell_type": "code",
   "execution_count": null,
   "id": "7c9d8545",
   "metadata": {},
   "outputs": [],
   "source": [
    "import ast # it can convert string to list\n",
    "\n",
    "# create convert function\n",
    "def convert(text):\n",
    "    l = []\n",
    "    for i in ast.literal_eval(text):\n",
    "        l.append(i['name'])\n",
    "        \n",
    "    return l\n"
   ]
  },
  {
   "cell_type": "code",
   "execution_count": null,
   "id": "7b6a9130",
   "metadata": {},
   "outputs": [],
   "source": [
    "# apply the function of genres\n",
    "movies['genres'] = movies['genres'].apply(convert)"
   ]
  },
  {
   "cell_type": "code",
   "execution_count": null,
   "id": "71d6e859",
   "metadata": {},
   "outputs": [],
   "source": [
    "# view first 2 rows of movies\n",
    "movies.head(2)"
   ]
  },
  {
   "cell_type": "markdown",
   "id": "21d55204",
   "metadata": {},
   "source": [
    "Covert Keywords"
   ]
  },
  {
   "cell_type": "code",
   "execution_count": null,
   "id": "f4460df8",
   "metadata": {},
   "outputs": [],
   "source": [
    "# get first keywords\n",
    "movies.iloc[0]['keywords']"
   ]
  },
  {
   "cell_type": "code",
   "execution_count": null,
   "id": "f807ca45",
   "metadata": {},
   "outputs": [],
   "source": [
    "# apply the function of keywords\n",
    "movies['keywords'] = movies['keywords'].apply(convert)"
   ]
  },
  {
   "cell_type": "code",
   "execution_count": null,
   "id": "cc640c9c",
   "metadata": {},
   "outputs": [],
   "source": [
    "# view first 2 rows of movies\n",
    "movies.head(2)"
   ]
  },
  {
   "cell_type": "markdown",
   "id": "1fad809d",
   "metadata": {},
   "source": [
    "Convert Cast"
   ]
  },
  {
   "cell_type": "code",
   "execution_count": null,
   "id": "960e6b79",
   "metadata": {},
   "outputs": [],
   "source": [
    "# get first cast\n",
    "movies.iloc[0]['cast']"
   ]
  },
  {
   "cell_type": "code",
   "execution_count": null,
   "id": "15ee3356",
   "metadata": {},
   "outputs": [],
   "source": [
    "# create convert_cast function\n",
    "def convert_cast(text):\n",
    "    l = []\n",
    "    counter = 0\n",
    "    for i in ast.literal_eval(text):\n",
    "        if counter < 3:\n",
    "            l.append(i['name'])\n",
    "        counter+=1\n",
    "    return l"
   ]
  },
  {
   "cell_type": "code",
   "execution_count": null,
   "id": "c316dc0f",
   "metadata": {},
   "outputs": [],
   "source": [
    "# apply the function of cast\n",
    "movies['cast'] = movies['cast'].apply(convert_cast)"
   ]
  },
  {
   "cell_type": "code",
   "execution_count": null,
   "id": "9d06857e",
   "metadata": {},
   "outputs": [],
   "source": [
    "# view first 2 rows of movies\n",
    "movies.head(2)"
   ]
  },
  {
   "cell_type": "markdown",
   "id": "c8d6a915",
   "metadata": {},
   "source": [
    "Covert Crew"
   ]
  },
  {
   "cell_type": "code",
   "execution_count": null,
   "id": "bc0fbb5f",
   "metadata": {},
   "outputs": [],
   "source": [
    "# get first crew\n",
    "movies.iloc[0]['crew']"
   ]
  },
  {
   "cell_type": "code",
   "execution_count": null,
   "id": "c72d4a13",
   "metadata": {},
   "outputs": [],
   "source": [
    "# create fetch_directory function\n",
    "def fetch_directory(text):\n",
    "    l = []\n",
    "    for i in ast.literal_eval(text):\n",
    "        if i['job'] == 'Director':\n",
    "            l.append(i['name'])\n",
    "            break\n",
    "        \n",
    "    return l"
   ]
  },
  {
   "cell_type": "code",
   "execution_count": null,
   "id": "9fb97ed8",
   "metadata": {},
   "outputs": [],
   "source": [
    "# apply the function of crew\n",
    "movies['crew'] = movies['crew'].apply(fetch_directory)"
   ]
  },
  {
   "cell_type": "code",
   "execution_count": null,
   "id": "496a42c6",
   "metadata": {},
   "outputs": [],
   "source": [
    "# view first 2 rows of movies\n",
    "movies.head(2)"
   ]
  },
  {
   "cell_type": "markdown",
   "id": "48f2509c",
   "metadata": {},
   "source": [
    "Data spliting"
   ]
  },
  {
   "cell_type": "code",
   "execution_count": null,
   "id": "163d60bd",
   "metadata": {},
   "outputs": [],
   "source": [
    "# get first overview\n",
    "movies.iloc[0]['overview']"
   ]
  },
  {
   "cell_type": "code",
   "execution_count": null,
   "id": "ab3a51b6",
   "metadata": {},
   "outputs": [],
   "source": [
    "#split data from the 'overview' column\n",
    "movies['overview'] = movies['overview'].apply(lambda x:x.split())"
   ]
  },
  {
   "cell_type": "code",
   "execution_count": null,
   "id": "9b0f1433",
   "metadata": {},
   "outputs": [],
   "source": [
    "# view first 2 rows of movies\n",
    "movies.head(2)"
   ]
  },
  {
   "cell_type": "code",
   "execution_count": null,
   "id": "ed124f23",
   "metadata": {},
   "outputs": [],
   "source": [
    "# get first overview\n",
    "movies.iloc[0]['overview']"
   ]
  },
  {
   "cell_type": "code",
   "execution_count": null,
   "id": "ff8bd3cc",
   "metadata": {},
   "outputs": [],
   "source": [
    "# view first few rows\n",
    "movies.head()"
   ]
  },
  {
   "cell_type": "markdown",
   "id": "6ec557fe",
   "metadata": {},
   "source": [
    "Remove Spaces "
   ]
  },
  {
   "cell_type": "code",
   "execution_count": null,
   "id": "1c0950fe",
   "metadata": {},
   "outputs": [],
   "source": [
    "# create remove_space function\n",
    "def remove_space(word):\n",
    "    l = []\n",
    "    for i in word:\n",
    "        l.append(i.replace(\" \",\"\"))\n",
    "    return l"
   ]
  },
  {
   "cell_type": "code",
   "execution_count": null,
   "id": "96262f1f",
   "metadata": {},
   "outputs": [],
   "source": [
    "# call remove_space function\n",
    "movies['cast'] = movies['cast'].apply(remove_space)\n",
    "movies['crew'] = movies['crew'].apply(remove_space)\n",
    "movies['genres'] = movies['genres'].apply(remove_space)\n",
    "movies['keywords'] = movies['keywords'].apply(remove_space)"
   ]
  },
  {
   "cell_type": "code",
   "execution_count": null,
   "id": "85641f35",
   "metadata": {},
   "outputs": [],
   "source": [
    "# view first few rows\n",
    "movies.head()"
   ]
  },
  {
   "cell_type": "code",
   "execution_count": null,
   "id": "41c30bcb",
   "metadata": {},
   "outputs": [],
   "source": [
    "#Concatenate the columns & create a new column\n",
    "movies['tags'] = movies['overview'] + movies['genres'] + movies['keywords'] + movies['cast'] + movies['crew']"
   ]
  },
  {
   "cell_type": "code",
   "execution_count": null,
   "id": "ea28640b",
   "metadata": {},
   "outputs": [],
   "source": [
    "# view first few rows\n",
    "movies.head()"
   ]
  },
  {
   "cell_type": "code",
   "execution_count": null,
   "id": "9b4cc093",
   "metadata": {},
   "outputs": [],
   "source": [
    "movies.iloc[0]['tags']"
   ]
  },
  {
   "cell_type": "code",
   "execution_count": null,
   "id": "8205dc04",
   "metadata": {},
   "outputs": [],
   "source": [
    "# create new data frame\n",
    "new_df = movies[['movie_id', 'title', 'tags', 'vote_count']]"
   ]
  },
  {
   "cell_type": "code",
   "execution_count": null,
   "id": "d9a8fa5a",
   "metadata": {},
   "outputs": [],
   "source": [
    "# view fist few rows of new data frame\n",
    "new_df.head()"
   ]
  },
  {
   "cell_type": "code",
   "execution_count": null,
   "id": "1b58173d",
   "metadata": {},
   "outputs": [],
   "source": [
    "# converts tage coloumn to the string format\n",
    "new_df['tags'] = new_df['tags'].apply(lambda x: \" \".join(map(str, x)) if isinstance(x, list) else str(x))"
   ]
  },
  {
   "cell_type": "code",
   "execution_count": null,
   "id": "f4e4a832",
   "metadata": {},
   "outputs": [],
   "source": [
    "# view first few rows\n",
    "new_df.head()"
   ]
  },
  {
   "cell_type": "code",
   "execution_count": null,
   "id": "434b1c8a",
   "metadata": {},
   "outputs": [],
   "source": [
    "# access the tags colomn in the new_df data frame\n",
    "new_df.iloc[0]['tags']"
   ]
  },
  {
   "cell_type": "code",
   "execution_count": null,
   "id": "f378f889",
   "metadata": {},
   "outputs": [],
   "source": [
    "# convert the tags colomn to the lowercase\n",
    "new_df['tags'] = new_df['tags'].apply(lambda x:x.lower())"
   ]
  },
  {
   "cell_type": "code",
   "execution_count": null,
   "id": "2ec881b4",
   "metadata": {},
   "outputs": [],
   "source": [
    "# view first few rows\n",
    "new_df.head()"
   ]
  },
  {
   "cell_type": "code",
   "execution_count": null,
   "id": "f21f36a5",
   "metadata": {},
   "outputs": [],
   "source": [
    "# again access the tags colomn in the new_df data frame\n",
    "new_df.iloc[0]['tags']"
   ]
  },
  {
   "cell_type": "code",
   "execution_count": null,
   "id": "99a5d7f0",
   "metadata": {},
   "outputs": [],
   "source": [
    "# veiw first few rows of new_df\n",
    "new_df.head()"
   ]
  },
  {
   "cell_type": "markdown",
   "id": "8e657db3",
   "metadata": {},
   "source": [
    "# Generating Embeddings"
   ]
  },
  {
   "cell_type": "code",
   "execution_count": null,
   "id": "ae5297d8",
   "metadata": {},
   "outputs": [],
   "source": [
    "# import libraries \n",
    "import nltk\n",
    "from nltk.stem import PorterStemmer"
   ]
  },
  {
   "cell_type": "code",
   "execution_count": null,
   "id": "c1613e54",
   "metadata": {},
   "outputs": [],
   "source": [
    "# create an instance of the Porter Stemmer(tool of stemming words)\n",
    "ps = PorterStemmer()"
   ]
  },
  {
   "cell_type": "code",
   "execution_count": null,
   "id": "f7598885",
   "metadata": {},
   "outputs": [],
   "source": [
    "# create stem function\n",
    "def stem(text):\n",
    "    l = []\n",
    "    for i in text.split():\n",
    "        l.append(ps.stem(i))\n",
    "        \n",
    "    return \" \".join(l)"
   ]
  },
  {
   "cell_type": "code",
   "execution_count": null,
   "id": "62fb5234",
   "metadata": {},
   "outputs": [],
   "source": [
    "# applying stemming function\n",
    "new_df['tags'] = new_df['tags'].apply(stem)"
   ]
  },
  {
   "cell_type": "code",
   "execution_count": null,
   "id": "54ec0aa3",
   "metadata": {},
   "outputs": [],
   "source": [
    "# access the tags colomn in the new_df data frame\n",
    "new_df.iloc[0]['tags']"
   ]
  },
  {
   "cell_type": "code",
   "execution_count": null,
   "id": "be695d48",
   "metadata": {},
   "outputs": [],
   "source": [
    "# call CountVectorizer\n",
    "from sklearn.feature_extraction.text import CountVectorizer\n",
    "cv = CountVectorizer(max_features=5000, stop_words='english')  # create instanse "
   ]
  },
  {
   "cell_type": "code",
   "execution_count": null,
   "id": "9f95bdb9",
   "metadata": {},
   "outputs": [],
   "source": [
    "# convert 'tags' into a numerical vector\n",
    "vector = cv.fit_transform(new_df['tags']).toarray()"
   ]
  },
  {
   "cell_type": "code",
   "execution_count": null,
   "id": "056e6b24",
   "metadata": {},
   "outputs": [],
   "source": [
    "# call the vector\n",
    "vector"
   ]
  },
  {
   "cell_type": "code",
   "execution_count": null,
   "id": "df0d6d8d",
   "metadata": {},
   "outputs": [],
   "source": [
    "# representing the number of rows and columns in the array\n",
    "vector.shape"
   ]
  },
  {
   "cell_type": "code",
   "execution_count": null,
   "id": "f0c293b9",
   "metadata": {},
   "outputs": [],
   "source": [
    "from sklearn.metrics.pairwise import cosine_similarity"
   ]
  },
  {
   "cell_type": "code",
   "execution_count": null,
   "id": "9133e3e8",
   "metadata": {},
   "outputs": [],
   "source": [
    "# calculate the cosine similarity between vectors\n",
    "similary = cosine_similarity(vector)"
   ]
  },
  {
   "cell_type": "code",
   "execution_count": null,
   "id": "a10599f1",
   "metadata": {},
   "outputs": [],
   "source": [
    "similary"
   ]
  },
  {
   "cell_type": "code",
   "execution_count": null,
   "id": "6157eef9",
   "metadata": {},
   "outputs": [],
   "source": [
    "# returns a tuple of (number of rows, number of columns)\n",
    "similary.shape"
   ]
  },
  {
   "cell_type": "code",
   "execution_count": null,
   "id": "42ba0d09",
   "metadata": {},
   "outputs": [],
   "source": [
    "# retrieve the index of the row\n",
    "new_df[new_df['title'] == 'Spider-Man'].index[0]"
   ]
  },
  {
   "cell_type": "code",
   "execution_count": null,
   "id": "4bb9bfa8",
   "metadata": {},
   "outputs": [],
   "source": []
  }
 ],
 "metadata": {
  "kernelspec": {
   "display_name": "Python 3 (ipykernel)",
   "language": "python",
   "name": "python3"
  },
  "language_info": {
   "codemirror_mode": {
    "name": "ipython",
    "version": 3
   },
   "file_extension": ".py",
   "mimetype": "text/x-python",
   "name": "python",
   "nbconvert_exporter": "python",
   "pygments_lexer": "ipython3",
   "version": "3.11.5"
  }
 },
 "nbformat": 4,
 "nbformat_minor": 5
}

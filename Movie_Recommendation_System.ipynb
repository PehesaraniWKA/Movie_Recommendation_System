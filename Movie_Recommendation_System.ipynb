{
 "cells": [
  {
   "cell_type": "markdown",
   "id": "ed286a32",
   "metadata": {},
   "source": [
    "# Import Libraries"
   ]
  },
  {
   "cell_type": "code",
   "execution_count": null,
   "id": "7ef925c4",
   "metadata": {},
   "outputs": [],
   "source": [
    "import numpy as np\n",
    "import pandas as pd\n",
    "import matplotlib.pyplot as plt\n",
    "import os"
   ]
  },
  {
   "cell_type": "markdown",
   "id": "a9fac7ec",
   "metadata": {},
   "source": [
    "# Load the dataset"
   ]
  },
  {
   "cell_type": "code",
   "execution_count": null,
   "id": "97fd11a0",
   "metadata": {},
   "outputs": [],
   "source": [
    "movies = pd.read_csv('data/tmdb_5000_movies.csv')\n",
    "credits = pd.read_csv('data/tmdb_5000_credits.csv')"
   ]
  },
  {
   "cell_type": "code",
   "execution_count": null,
   "id": "3b33ca98",
   "metadata": {},
   "outputs": [],
   "source": [
    "# view first 2 rows of movies\n",
    "movies.head(2)"
   ]
  },
  {
   "cell_type": "code",
   "execution_count": null,
   "id": "f0c24ad2",
   "metadata": {},
   "outputs": [],
   "source": [
    "# view first 2 rows of credits\n",
    "credits.head(2)"
   ]
  },
  {
   "cell_type": "code",
   "execution_count": null,
   "id": "5ec6d66a",
   "metadata": {},
   "outputs": [],
   "source": [
    "# check how many rows and columns avalable in movies dataset\n",
    "movies.shape"
   ]
  },
  {
   "cell_type": "code",
   "execution_count": null,
   "id": "c397221d",
   "metadata": {},
   "outputs": [],
   "source": [
    "# check how many rows and columns avalable in credits dataset\n",
    "credits.shape"
   ]
  },
  {
   "cell_type": "markdown",
   "id": "117cad7b",
   "metadata": {},
   "source": [
    "# Merge Datasets"
   ]
  },
  {
   "cell_type": "code",
   "execution_count": null,
   "id": "a4443780",
   "metadata": {},
   "outputs": [],
   "source": [
    "movies = movies.merge(credits, on='title')"
   ]
  },
  {
   "cell_type": "code",
   "execution_count": null,
   "id": "a653638a",
   "metadata": {},
   "outputs": [],
   "source": [
    "# view first 2 rows of new movies dataset\n",
    "movies.head(2)"
   ]
  },
  {
   "cell_type": "code",
   "execution_count": null,
   "id": "1b4e4482",
   "metadata": {},
   "outputs": [],
   "source": [
    "# check how many rows and columns avalable in new movies dataset\n",
    "movies.shape"
   ]
  },
  {
   "cell_type": "markdown",
   "id": "3a9b4c5a",
   "metadata": {},
   "source": [
    "# Preprocess the data"
   ]
  },
  {
   "cell_type": "code",
   "execution_count": null,
   "id": "dec642e7",
   "metadata": {},
   "outputs": [],
   "source": [
    "# check what are the clomns in new movies dataset\n",
    "movies.columns"
   ]
  },
  {
   "cell_type": "code",
   "execution_count": null,
   "id": "9b0677ec",
   "metadata": {},
   "outputs": [],
   "source": [
    "# choose only some needed colomns only\n",
    "movies = movies[['movie_id', 'title', 'overview', 'genres', 'keywords', 'cast', 'crew', 'vote_count']]"
   ]
  },
  {
   "cell_type": "code",
   "execution_count": null,
   "id": "c417bc53",
   "metadata": {},
   "outputs": [],
   "source": [
    "# print new movie dataset\n",
    "movies"
   ]
  },
  {
   "cell_type": "code",
   "execution_count": null,
   "id": "ceb8796b",
   "metadata": {},
   "outputs": [],
   "source": [
    "# check no of colomns and rows\n",
    "movies.shape"
   ]
  },
  {
   "cell_type": "markdown",
   "id": "b40e3485",
   "metadata": {},
   "source": [
    "Remove missing values"
   ]
  },
  {
   "cell_type": "code",
   "execution_count": null,
   "id": "d0cc783a",
   "metadata": {},
   "outputs": [],
   "source": [
    "# check missing values\n",
    "movies.isnull().sum()"
   ]
  },
  {
   "cell_type": "code",
   "execution_count": null,
   "id": "181eabac",
   "metadata": {},
   "outputs": [],
   "source": [
    "# drop missing values\n",
    "movies.dropna(inplace=True)"
   ]
  },
  {
   "cell_type": "code",
   "execution_count": null,
   "id": "1a75d39e",
   "metadata": {},
   "outputs": [],
   "source": [
    "# check again missing values in here\n",
    "movies.isnull().sum()"
   ]
  },
  {
   "cell_type": "code",
   "execution_count": null,
   "id": "cd4c8c79",
   "metadata": {},
   "outputs": [],
   "source": [
    "# check no of colomns and rows (without missing values)\n",
    "movies.shape"
   ]
  },
  {
   "cell_type": "markdown",
   "id": "76de73e0",
   "metadata": {},
   "source": [
    "Remove duplicate values"
   ]
  },
  {
   "cell_type": "code",
   "execution_count": null,
   "id": "a043c11d",
   "metadata": {},
   "outputs": [],
   "source": [
    "# check duplicated movies in here\n",
    "movies.duplicated().sum()"
   ]
  },
  {
   "cell_type": "markdown",
   "id": "396fa86e",
   "metadata": {},
   "source": [
    "Covert Genres"
   ]
  },
  {
   "cell_type": "code",
   "execution_count": null,
   "id": "12321368",
   "metadata": {},
   "outputs": [],
   "source": [
    "# get first genres\n",
    "movies.iloc[0]['genres']"
   ]
  },
  {
   "cell_type": "code",
   "execution_count": null,
   "id": "03c63fc5",
   "metadata": {},
   "outputs": [],
   "source": [
    "# check type of genres\n",
    "type(movies.iloc[0]['genres'])"
   ]
  },
  {
   "cell_type": "code",
   "execution_count": null,
   "id": "7c9d8545",
   "metadata": {},
   "outputs": [],
   "source": [
    "import ast # it can convert string to list\n",
    "\n",
    "# create convert function\n",
    "def convert(text):\n",
    "    l = []\n",
    "    for i in ast.literal_eval(text):\n",
    "        l.append(i['name'])\n",
    "        \n",
    "    return l\n"
   ]
  },
  {
   "cell_type": "code",
   "execution_count": null,
   "id": "7b6a9130",
   "metadata": {},
   "outputs": [],
   "source": [
    "# apply the function of genres\n",
    "movies['genres'] = movies['genres'].apply(convert)"
   ]
  },
  {
   "cell_type": "code",
   "execution_count": null,
   "id": "71d6e859",
   "metadata": {},
   "outputs": [],
   "source": [
    "# view first 2 rows of movies\n",
    "movies.head(2)"
   ]
  },
  {
   "cell_type": "markdown",
   "id": "21d55204",
   "metadata": {},
   "source": [
    "Covert Keywords"
   ]
  },
  {
   "cell_type": "code",
   "execution_count": null,
   "id": "f4460df8",
   "metadata": {},
   "outputs": [],
   "source": [
    "# get first keywords\n",
    "movies.iloc[0]['keywords']"
   ]
  },
  {
   "cell_type": "code",
   "execution_count": null,
   "id": "f807ca45",
   "metadata": {},
   "outputs": [],
   "source": [
    "# apply the function of keywords\n",
    "movies['keywords'] = movies['keywords'].apply(convert)"
   ]
  },
  {
   "cell_type": "code",
   "execution_count": null,
   "id": "cc640c9c",
   "metadata": {},
   "outputs": [],
   "source": [
    "# view first 2 rows of movies\n",
    "movies.head(2)"
   ]
  },
  {
   "cell_type": "markdown",
   "id": "1fad809d",
   "metadata": {},
   "source": [
    "Convert Cast"
   ]
  },
  {
   "cell_type": "code",
   "execution_count": null,
   "id": "960e6b79",
   "metadata": {},
   "outputs": [],
   "source": [
    "# get first cast\n",
    "movies.iloc[0]['cast']"
   ]
  },
  {
   "cell_type": "code",
   "execution_count": null,
   "id": "15ee3356",
   "metadata": {},
   "outputs": [],
   "source": [
    "# create convert_cast function\n",
    "def convert_cast(text):\n",
    "    l = []\n",
    "    counter = 0\n",
    "    for i in ast.literal_eval(text):\n",
    "        if counter < 3:\n",
    "            l.append(i['name'])\n",
    "        counter+=1\n",
    "    return l"
   ]
  },
  {
   "cell_type": "code",
   "execution_count": null,
   "id": "c316dc0f",
   "metadata": {},
   "outputs": [],
   "source": [
    "# apply the function of cast\n",
    "movies['cast'] = movies['cast'].apply(convert_cast)"
   ]
  },
  {
   "cell_type": "code",
   "execution_count": null,
   "id": "9d06857e",
   "metadata": {},
   "outputs": [],
   "source": [
    "# view first 2 rows of movies\n",
    "movies.head(2)"
   ]
  },
  {
   "cell_type": "markdown",
   "id": "c8d6a915",
   "metadata": {},
   "source": [
    "Covert Crew"
   ]
  },
  {
   "cell_type": "code",
   "execution_count": null,
   "id": "bc0fbb5f",
   "metadata": {},
   "outputs": [],
   "source": [
    "# get first crew\n",
    "movies.iloc[0]['crew']"
   ]
  },
  {
   "cell_type": "code",
   "execution_count": null,
   "id": "c72d4a13",
   "metadata": {},
   "outputs": [],
   "source": [
    "# create fetch_directory function\n",
    "def fetch_directory(text):\n",
    "    l = []\n",
    "    for i in ast.literal_eval(text):\n",
    "        if i['job'] == 'Director':\n",
    "            l.append(i['name'])\n",
    "            break\n",
    "        \n",
    "    return l"
   ]
  },
  {
   "cell_type": "code",
   "execution_count": null,
   "id": "9fb97ed8",
   "metadata": {},
   "outputs": [],
   "source": [
    "# apply the function of crew\n",
    "movies['crew'] = movies['crew'].apply(fetch_directory)"
   ]
  },
  {
   "cell_type": "code",
   "execution_count": null,
   "id": "496a42c6",
   "metadata": {},
   "outputs": [],
   "source": [
    "# view first 2 rows of movies\n",
    "movies.head(2)"
   ]
  },
  {
   "cell_type": "markdown",
   "id": "48f2509c",
   "metadata": {},
   "source": [
    "Data spliting"
   ]
  },
  {
   "cell_type": "code",
   "execution_count": null,
   "id": "163d60bd",
   "metadata": {},
   "outputs": [],
   "source": [
    "# get first overview\n",
    "movies.iloc[0]['overview']"
   ]
  },
  {
   "cell_type": "code",
   "execution_count": null,
   "id": "ab3a51b6",
   "metadata": {},
   "outputs": [],
   "source": [
    "#split data from the 'overview' column\n",
    "movies['overview'] = movies['overview'].apply(lambda x:x.split())"
   ]
  },
  {
   "cell_type": "code",
   "execution_count": null,
   "id": "9b0f1433",
   "metadata": {},
   "outputs": [],
   "source": [
    "# view first 2 rows of movies\n",
    "movies.head(2)"
   ]
  },
  {
   "cell_type": "code",
   "execution_count": null,
   "id": "ed124f23",
   "metadata": {},
   "outputs": [],
   "source": [
    "# get first overview\n",
    "movies.iloc[0]['overview']"
   ]
  },
  {
   "cell_type": "code",
   "execution_count": null,
   "id": "ff8bd3cc",
   "metadata": {},
   "outputs": [],
   "source": [
    "# view first few rows\n",
    "movies.head()"
   ]
  },
  {
   "cell_type": "markdown",
   "id": "6ec557fe",
   "metadata": {},
   "source": [
    "Remove Spaces "
   ]
  },
  {
   "cell_type": "code",
   "execution_count": null,
   "id": "1c0950fe",
   "metadata": {},
   "outputs": [],
   "source": [
    "# create remove_space function\n",
    "def remove_space(word):\n",
    "    l = []\n",
    "    for i in word:\n",
    "        l.append(i.replace(\" \",\"\"))\n",
    "    return l"
   ]
  },
  {
   "cell_type": "code",
   "execution_count": null,
   "id": "96262f1f",
   "metadata": {},
   "outputs": [],
   "source": [
    "# call remove_space function\n",
    "movies['cast'] = movies['cast'].apply(remove_space)\n",
    "movies['crew'] = movies['crew'].apply(remove_space)\n",
    "movies['genres'] = movies['genres'].apply(remove_space)\n",
    "movies['keywords'] = movies['keywords'].apply(remove_space)"
   ]
  },
  {
   "cell_type": "code",
   "execution_count": null,
   "id": "85641f35",
   "metadata": {},
   "outputs": [],
   "source": [
    "# view first few rows\n",
    "movies.head()"
   ]
  },
  {
   "cell_type": "code",
   "execution_count": null,
   "id": "41c30bcb",
   "metadata": {},
   "outputs": [],
   "source": [
    "#Concatenate the columns & create a new column\n",
    "movies['tags'] = movies['overview'] + movies['genres'] + movies['keywords'] + movies['cast'] + movies['crew']"
   ]
  },
  {
   "cell_type": "code",
   "execution_count": null,
   "id": "ea28640b",
   "metadata": {},
   "outputs": [],
   "source": [
    "# view first few rows\n",
    "movies.head()"
   ]
  },
  {
   "cell_type": "code",
   "execution_count": null,
   "id": "9b4cc093",
   "metadata": {},
   "outputs": [],
   "source": [
    "movies.iloc[0]['tags']"
   ]
  },
  {
   "cell_type": "code",
   "execution_count": null,
   "id": "8205dc04",
   "metadata": {},
   "outputs": [],
   "source": [
    "# create new data frame\n",
    "new_df = movies[['movie_id', 'title', 'tags', 'vote_count']]"
   ]
  },
  {
   "cell_type": "code",
   "execution_count": null,
   "id": "d9a8fa5a",
   "metadata": {},
   "outputs": [],
   "source": [
    "# view fist few rows of new data frame\n",
    "new_df.head()"
   ]
  },
  {
   "cell_type": "code",
   "execution_count": null,
   "id": "1b58173d",
   "metadata": {},
   "outputs": [],
   "source": [
    "# converts tage coloumn to the string format\n",
    "new_df['tags'] = new_df['tags'].apply(lambda x: \" \".join(map(str, x)) if isinstance(x, list) else str(x))"
   ]
  },
  {
   "cell_type": "code",
   "execution_count": null,
   "id": "f4e4a832",
   "metadata": {},
   "outputs": [],
   "source": [
    "# view first few rows\n",
    "new_df.head()"
   ]
  },
  {
   "cell_type": "code",
   "execution_count": null,
   "id": "434b1c8a",
   "metadata": {},
   "outputs": [],
   "source": [
    "# access the tags colomn in the new_df data frame\n",
    "new_df.iloc[0]['tags']"
   ]
  },
  {
   "cell_type": "code",
   "execution_count": null,
   "id": "f378f889",
   "metadata": {},
   "outputs": [],
   "source": [
    "# convert the tags colomn to the lowercase\n",
    "new_df['tags'] = new_df['tags'].apply(lambda x:x.lower())"
   ]
  },
  {
   "cell_type": "code",
   "execution_count": null,
   "id": "2ec881b4",
   "metadata": {},
   "outputs": [],
   "source": [
    "# view first few rows\n",
    "new_df.head()"
   ]
  },
  {
   "cell_type": "code",
   "execution_count": null,
   "id": "f21f36a5",
   "metadata": {},
   "outputs": [],
   "source": [
    "# again access the tags colomn in the new_df data frame\n",
    "new_df.iloc[0]['tags']"
   ]
  },
  {
   "cell_type": "code",
   "execution_count": null,
   "id": "99a5d7f0",
   "metadata": {},
   "outputs": [],
   "source": [
    "# veiw first few rows of new_df\n",
    "new_df.head()"
   ]
  },
  {
   "cell_type": "markdown",
   "id": "8e657db3",
   "metadata": {},
   "source": [
    "# Generating Embeddings"
   ]
  },
  {
   "cell_type": "code",
   "execution_count": null,
   "id": "ae5297d8",
   "metadata": {},
   "outputs": [],
   "source": [
    "# import libraries \n",
    "import nltk\n",
    "from nltk.stem import PorterStemmer"
   ]
  },
  {
   "cell_type": "code",
   "execution_count": null,
   "id": "c1613e54",
   "metadata": {},
   "outputs": [],
   "source": [
    "# create an instance of the Porter Stemmer(tool of stemming words)\n",
    "ps = PorterStemmer()"
   ]
  },
  {
   "cell_type": "code",
   "execution_count": null,
   "id": "f7598885",
   "metadata": {},
   "outputs": [],
   "source": [
    "# create stem function\n",
    "def stem(text):\n",
    "    l = []\n",
    "    for i in text.split():\n",
    "        l.append(ps.stem(i))\n",
    "        \n",
    "    return \" \".join(l)"
   ]
  },
  {
   "cell_type": "code",
   "execution_count": null,
   "id": "62fb5234",
   "metadata": {},
   "outputs": [],
   "source": [
    "# applying stemming function\n",
    "new_df['tags'] = new_df['tags'].apply(stem)"
   ]
  },
  {
   "cell_type": "code",
   "execution_count": null,
   "id": "54ec0aa3",
   "metadata": {},
   "outputs": [],
   "source": [
    "# access the tags colomn in the new_df data frame\n",
    "new_df.iloc[0]['tags']"
   ]
  },
  {
   "cell_type": "code",
   "execution_count": null,
   "id": "be695d48",
   "metadata": {},
   "outputs": [],
   "source": [
    "# call CountVectorizer\n",
    "from sklearn.feature_extraction.text import CountVectorizer\n",
    "cv = CountVectorizer(max_features=5000, stop_words='english')  # create instanse "
   ]
  },
  {
   "cell_type": "code",
   "execution_count": null,
   "id": "9f95bdb9",
   "metadata": {},
   "outputs": [],
   "source": [
    "# convert 'tags' into a numerical vector\n",
    "vector = cv.fit_transform(new_df['tags']).toarray()"
   ]
  },
  {
   "cell_type": "code",
   "execution_count": null,
   "id": "056e6b24",
   "metadata": {},
   "outputs": [],
   "source": [
    "# call the vector\n",
    "vector"
   ]
  },
  {
   "cell_type": "code",
   "execution_count": null,
   "id": "df0d6d8d",
   "metadata": {},
   "outputs": [],
   "source": [
    "# representing the number of rows and columns in the array\n",
    "vector.shape"
   ]
  },
  {
   "cell_type": "code",
   "execution_count": null,
   "id": "f0c293b9",
   "metadata": {},
   "outputs": [],
   "source": [
    "from sklearn.metrics.pairwise import cosine_similarity"
   ]
  },
  {
   "cell_type": "code",
   "execution_count": null,
   "id": "9133e3e8",
   "metadata": {},
   "outputs": [],
   "source": [
    "# calculate the cosine similarity between vectors\n",
    "similary = cosine_similarity(vector)"
   ]
  },
  {
   "cell_type": "code",
   "execution_count": null,
   "id": "a10599f1",
   "metadata": {},
   "outputs": [],
   "source": [
    "similary"
   ]
  },
  {
   "cell_type": "code",
   "execution_count": null,
   "id": "6157eef9",
   "metadata": {},
   "outputs": [],
   "source": [
    "# returns a tuple of (number of rows, number of columns)\n",
    "similary.shape"
   ]
  },
  {
   "cell_type": "code",
   "execution_count": null,
   "id": "42ba0d09",
   "metadata": {},
   "outputs": [],
   "source": [
    "# retrieve the index of the row\n",
    "new_df[new_df['title'] == 'Spider-Man'].index[0]"
   ]
  },
  {
   "cell_type": "code",
   "execution_count": null,
   "id": "221d84c3",
   "metadata": {},
   "outputs": [],
   "source": [
    "# create pickle files\n",
    "# import pickle\n",
    "\n",
    "# pickle.dump(new_df, open('artificats/movie_list.pkl', 'wb'))\n",
    "# pickle.dump(similary, open('artificats/similarity.pkl', 'wb'))"
   ]
  },
  {
   "cell_type": "markdown",
   "id": "1799fa8f",
   "metadata": {},
   "source": [
    "# View Recommended Movies"
   ]
  },
  {
   "cell_type": "code",
   "execution_count": null,
   "id": "c75a795a",
   "metadata": {},
   "outputs": [],
   "source": [
    "# initialize an empty list 'viewing_history'\n",
    "viewing_history = []"
   ]
  },
  {
   "cell_type": "code",
   "execution_count": null,
   "id": "49c64574",
   "metadata": {},
   "outputs": [],
   "source": [
    "# funtion of recommende movie based on title\n",
    "def recommend(movie):\n",
    "    index = new_df[new_df['title'] == movie].index[0]         # get the index\n",
    "    distances = sorted(list(enumerate(similary[index])), reverse=True, key=lambda x: x[1])  # calculate distances based on similarity score\n",
    "    recommended_movies = []   # inialize the list\n",
    "    for i in distances[1:6]:  # find top 5 similar movies\n",
    "        recommended_movie = new_df.iloc[i[0]].title\n",
    "        recommended_movies.append(recommended_movie)\n",
    "        print(recommended_movie)\n",
    "    \n",
    "    # Add recommended movies\n",
    "    viewing_history.append({\n",
    "        'query_movie': movie,\n",
    "        'recommended_movies': recommended_movies\n",
    "    })"
   ]
  },
  {
   "cell_type": "markdown",
   "id": "fe5486d8",
   "metadata": {},
   "source": [
    "Call the recommend function"
   ]
  },
  {
   "cell_type": "code",
   "execution_count": null,
   "id": "20b8f5be",
   "metadata": {},
   "outputs": [],
   "source": [
    "recommend('Spider-Man')"
   ]
  },
  {
   "cell_type": "code",
   "execution_count": null,
   "id": "161930f1",
   "metadata": {},
   "outputs": [],
   "source": [
    "recommend('The Dark Knight Rises')"
   ]
  },
  {
   "cell_type": "code",
   "execution_count": null,
   "id": "7f1c88c2",
   "metadata": {},
   "outputs": [],
   "source": [
    "recommend('Harry Potter and the Half-Blood Prince')"
   ]
  },
  {
   "cell_type": "code",
   "execution_count": null,
   "id": "5b5d15f8",
   "metadata": {},
   "outputs": [],
   "source": [
    "recommend('The Avengers')"
   ]
  },
  {
   "cell_type": "code",
   "execution_count": null,
   "id": "2abd37f2",
   "metadata": {},
   "outputs": [],
   "source": [
    "recommend('Robin Hood')"
   ]
  },
  {
   "cell_type": "markdown",
   "id": "585f8a9a",
   "metadata": {},
   "source": [
    "# Get Accuracy of Recommended Movies"
   ]
  },
  {
   "cell_type": "code",
   "execution_count": null,
   "id": "145926f5",
   "metadata": {},
   "outputs": [],
   "source": [
    "# create calculate accuracy function\n",
    "def calculate_accuracy(ground_truth, recommendations):    # ground_truth and recommendations are lists of recommended movies\n",
    "    common_recommendations = set(ground_truth).intersection(recommendations)\n",
    "    accuracy = len(common_recommendations) / len(recommendations)\n",
    "    return accuracy"
   ]
  },
  {
   "cell_type": "code",
   "execution_count": null,
   "id": "934d2451",
   "metadata": {},
   "outputs": [],
   "source": [
    "# create a function to compile ground truth movies from viewing history\n",
    "def view_history_ground_truth_movies():\n",
    "    ground_truth_movies = []\n",
    "    for record in viewing_history:\n",
    "        recommended_movies = record['recommended_movies']\n",
    "        ground_truth_movies.extend(recommended_movies)\n",
    "    return ground_truth_movies\n",
    "\n",
    "# get the ground truth movies from the viewing history\n",
    "ground_truth_movies = view_history_ground_truth_movies()\n",
    "\n",
    "# Calculate accuracy using ground truth movies\n",
    "accuracy = calculate_accuracy(ground_truth_movies, viewing_history[-1]['recommended_movies'])  # Pass the last set of recommended movies\n",
    "print(f\"Accuracy: {accuracy}\")"
   ]
  },
  {
   "cell_type": "markdown",
   "id": "41b79949",
   "metadata": {},
   "source": [
    "Also get Precision, Recall and F1_Score."
   ]
  },
  {
   "cell_type": "code",
   "execution_count": null,
   "id": "dc39fc22",
   "metadata": {},
   "outputs": [],
   "source": [
    "# function to calculate precision, recall, and F1 score\n",
    "def calculate_metrics(ground_truth, recommendations):\n",
    "    true_positives = len(set(ground_truth).intersection(recommendations))\n",
    "    false_positives = len(recommendations) - true_positives\n",
    "    false_negatives = len(ground_truth) - true_positives\n",
    "    \n",
    "    # calculate precision\n",
    "    precision = true_positives / (true_positives + false_positives) if (true_positives + false_positives) > 0 else 0\n",
    "    \n",
    "    # calculate recall\n",
    "    recall = true_positives / (true_positives + false_negatives) if (true_positives + false_negatives) > 0 else 0\n",
    "    \n",
    "    # calculate f1_score\n",
    "    f1_score = 2 * (precision * recall) / (precision + recall) if (precision + recall) > 0 else 0\n",
    "    \n",
    "    return precision, recall, f1_score\n",
    "\n",
    "# calculate precision, recall, and F1 score\n",
    "precision, recall, f1_score = calculate_metrics(ground_truth_movies, viewing_history[-1]['recommended_movies'])\n",
    "\n",
    "# print the results\n",
    "print(f\"Precision: {precision}\")\n",
    "print(f\"Recall: {recall}\")\n",
    "print(f\"F1 Score: {f1_score}\")\n"
   ]
  },
  {
   "cell_type": "markdown",
   "id": "3b582b4d",
   "metadata": {},
   "source": [
    "# View History of the recommened movies"
   ]
  },
  {
   "cell_type": "code",
   "execution_count": null,
   "id": "2a81ef78",
   "metadata": {},
   "outputs": [],
   "source": [
    "# create function to view history\n",
    "def view_history():\n",
    "    for record in viewing_history:\n",
    "        print(f\"Query Movie: {record['query_movie']}\")\n",
    "        print(\"Recommended Movies:\")\n",
    "        for movie in record['recommended_movies']:\n",
    "            print(f\" - {movie}\")\n",
    "        print(\"\\n\")\n"
   ]
  },
  {
   "cell_type": "code",
   "execution_count": null,
   "id": "43c6f09c",
   "metadata": {},
   "outputs": [],
   "source": [
    "# create function to view history\n",
    "def view_history():\n",
    "    for record in viewing_history:\n",
    "        print(f\"Query Movie: {record['query_movie']}\")\n",
    "        print(\"Recommended Movies:\")\n",
    "        for movie in record['recommended_movies']:\n",
    "            print(f\" - {movie}\")\n",
    "        print(\"\\n\")"
   ]
  },
  {
   "cell_type": "code",
   "execution_count": null,
   "id": "a7ea0d33",
   "metadata": {},
   "outputs": [],
   "source": [
    "# call the viweing history function\n",
    "view_history()"
   ]
  },
  {
   "cell_type": "markdown",
   "id": "e9a29171",
   "metadata": {},
   "source": [
    "# Recommended Movies based on preferences"
   ]
  },
  {
   "cell_type": "code",
   "execution_count": null,
   "id": "5f29d640",
   "metadata": {},
   "outputs": [],
   "source": [
    "def get_user_preferences():\n",
    "    # user input of preferencese movies\n",
    "    print(\"Please enter your movie preferences (comma-separated):\")\n",
    "    user_input = input()  # get user input\n",
    "    preferences = [preference.strip() for preference in user_input.split(',')]  # split the input and remove spaces\n",
    "    return preferences"
   ]
  },
  {
   "cell_type": "code",
   "execution_count": null,
   "id": "69264ab1",
   "metadata": {},
   "outputs": [],
   "source": [
    "def recommend_by_preferences(preferences, similarity):  # Pass similarity as an argument\n",
    "    # Convert to lowercase and stem\n",
    "    preferences = [ps.stem(p.lower()) for p in preferences]\n",
    "\n",
    "    # Find movies that match the user preferences\n",
    "    matching_movies = new_df[new_df['tags'].str.contains('|'.join(preferences))]\n",
    "\n",
    "    # Get recommendations based on the matching movies\n",
    "    recommended_movies = []\n",
    "    for movie in matching_movies['title']:\n",
    "        index = new_df[new_df['title'] == movie].index[0]\n",
    "        distances = sorted(list(enumerate(similarity[index])), reverse=True, key=lambda x: x[1])\n",
    "        for i in distances[1:6]:\n",
    "            recommended_movie = new_df.iloc[i[0]].title\n",
    "            recommended_movies.append(recommended_movie)\n",
    "\n",
    "    return list(set(recommended_movies))  # Removing duplicates and returning unique recommendations"
   ]
  },
  {
   "cell_type": "code",
   "execution_count": null,
   "id": "fc62b127",
   "metadata": {},
   "outputs": [],
   "source": [
    "from sklearn.metrics.pairwise import cosine_similarity\n",
    "similarity = cosine_similarity(vector)\n",
    "\n",
    "# Ask the user for their movie preferences\n",
    "user_preferences = get_user_preferences()\n",
    "\n",
    "# Get recommendations based on user preferences\n",
    "recommended_movies = recommend_by_preferences(user_preferences, similarity)\n",
    "\n",
    "print()\n",
    "print()\n",
    "\n",
    "# Print the recommended movies based on preferences\n",
    "print(\"Recommended Movies based on preferences:\")\n",
    "for movie in recommended_movies:\n",
    "    print(movie)"
   ]
  },
  {
   "cell_type": "markdown",
   "id": "8643839d",
   "metadata": {},
   "source": [
    "# Get Accuracy of Recommended Movies based on preferences."
   ]
  },
  {
   "cell_type": "code",
   "execution_count": null,
   "id": "b3819d29",
   "metadata": {},
   "outputs": [],
   "source": [
    "# function to calculate accuracy of based on preferences\n",
    "def calculate_paccuracy(ground_truth, recommendations):\n",
    "    common_recommendations = set(ground_truth).intersection(recommendations)  # find the commons\n",
    "    paccuracy = len(common_recommendations) / len(recommendations) if len(recommendations) > 0 else 0    # calculate accuracy\n",
    "    return paccuracy\n",
    "\n",
    "# Ask the user for their movie preferences\n",
    "user_preferences = get_user_preferences()\n",
    "\n",
    "# Get recommendations based on user preferences\n",
    "recommended_movies = recommend_by_preferences(user_preferences, similarity)\n",
    "\n",
    "# Calculate accuracy\n",
    "paccuracy = calculate_paccuracy(recommended_movies, recommended_movies)\n",
    "\n",
    "# Print the accuracy\n",
    "print(f\"Accuracy: {paccuracy}\")\n"
   ]
  },
  {
   "cell_type": "markdown",
   "id": "d60e07fb",
   "metadata": {},
   "source": [
    "Also get Precision, Recall, F1_Score."
   ]
  },
  {
   "cell_type": "code",
   "execution_count": null,
   "id": "3de42902",
   "metadata": {},
   "outputs": [],
   "source": [
    "# function to calculate precision, recall, and F1 score on preferences\n",
    "def calculate_metrics(ground_truth, recommendations):\n",
    "    true_positives = len(set(ground_truth).intersection(recommendations))\n",
    "    false_positives = len(recommendations) - true_positives\n",
    "    false_negatives = len(ground_truth) - true_positives\n",
    "    \n",
    "    # calculate precision\n",
    "    precision = true_positives / (true_positives + false_positives) if (true_positives + false_positives) > 0 else 0\n",
    "    \n",
    "    # calculate recall\n",
    "    recall = true_positives / (true_positives + false_negatives) if (true_positives + false_negatives) > 0 else 0\n",
    "    \n",
    "    # calculate f1_score\n",
    "    f1_score = 2 * (precision * recall) / (precision + recall) if (precision + recall) > 0 else 0\n",
    "    \n",
    "    return precision, recall, f1_score\n",
    "\n",
    "# Ask the user for their movie preferences\n",
    "user_preferences = get_user_preferences()\n",
    "\n",
    "# Get recommendations based on user preferences\n",
    "recommended_movies = recommend_by_preferences(user_preferences, similarity)\n",
    "\n",
    "# calculate precision, recall, and F1 score\n",
    "precision, recall, f1_score = calculate_metrics(recommended_movies, recommended_movies)\n",
    "\n",
    "# Print the metrics\n",
    "print(f\"Precision: {precision}\")\n",
    "print(f\"Recall: {recall}\")\n",
    "print(f\"F1 Score: {f1_score}\")\n"
   ]
  },
  {
   "cell_type": "markdown",
   "id": "5672f4df",
   "metadata": {},
   "source": [
    "# View history based on preferences"
   ]
  },
  {
   "cell_type": "markdown",
   "id": "82b60d7c",
   "metadata": {},
   "source": [
    "Save to the History of Recommended Movies based on preferences."
   ]
  },
  {
   "cell_type": "code",
   "execution_count": null,
   "id": "19267e94",
   "metadata": {},
   "outputs": [],
   "source": [
    "phistory = []  # Initialize an empty list to store the history of preference based recommended movies"
   ]
  },
  {
   "cell_type": "code",
   "execution_count": null,
   "id": "56dc2252",
   "metadata": {},
   "outputs": [],
   "source": [
    "def save_to_phistory(recommended_movies, phistory):\n",
    "    # Append the recommended movies\n",
    "    phistory.extend(recommended_movies)\n",
    "\n",
    "# Ask the user for their movie preferences\n",
    "user_preferences = get_user_preferences()\n",
    "\n",
    "# Get recommendations based on user preferences\n",
    "recommended_movies = recommend_by_preferences(user_preferences, similarity)\n",
    "\n",
    "print()\n",
    "print()\n",
    "\n",
    "# Print the recommended movies based on preferences\n",
    "print(\"Recommended Movies based on preferences:\")\n",
    "for movie in recommended_movies:\n",
    "    print(movie)\n",
    "\n",
    "# Save recommended movies to preferences history\n",
    "save_to_phistory(recommended_movies, phistory)\n"
   ]
  },
  {
   "cell_type": "markdown",
   "id": "00c19568",
   "metadata": {},
   "source": [
    "# Recommended Movies based on credits"
   ]
  },
  {
   "cell_type": "code",
   "execution_count": null,
   "id": "84e97c6b",
   "metadata": {},
   "outputs": [],
   "source": [
    "def recommend_by_credits(movie, similarity): \n",
    "    # Check if the movie is in the DataFrame\n",
    "    if movie not in new_df['title'].values:\n",
    "        print(f\"The movie '{movie}' is not found in the database.\")\n",
    "        return []\n",
    "\n",
    "    index = new_df[new_df['title'] == movie].index[0]  # get the index in data frame\n",
    "    distances = sorted(list(enumerate(similarity[index])), reverse=True, key=lambda x: x[1]) # calculate similarity scores\n",
    "    recommended_movies = []\n",
    "    for i in distances[1:6]:\n",
    "        recommended_movie = new_df.iloc[i[0]].title\n",
    "        recommended_movies.append(recommended_movie)\n",
    "\n",
    "    return recommended_movies  # return recommendation movies based on credits"
   ]
  },
  {
   "cell_type": "code",
   "execution_count": null,
   "id": "20fec102",
   "metadata": {},
   "outputs": [],
   "source": [
    "# user input for enter a movie title\n",
    "movie_to_get_credit_recommendations = input(\"Please enter a movie title to get credit-based recommendations: \")\n",
    "\n",
    "# Get recommendations based on movie credits\n",
    "recommended_movies_by_credits = recommend_by_credits(movie_to_get_credit_recommendations, similarity)\n",
    "\n",
    "if recommended_movies_by_credits:\n",
    "    # Print the recommended movies based on credits\n",
    "    print(f\"\\nRecommended Movies based on credits for {movie_to_get_credit_recommendations}:\")\n",
    "    for movie in recommended_movies_by_credits:\n",
    "        print(movie)"
   ]
  },
  {
   "cell_type": "markdown",
   "id": "ead2b4f3",
   "metadata": {},
   "source": [
    "# View history based on credits"
   ]
  },
  {
   "cell_type": "markdown",
   "id": "9513a5af",
   "metadata": {},
   "source": [
    "Save to the History of Recommended Movies based on credits"
   ]
  },
  {
   "cell_type": "code",
   "execution_count": null,
   "id": "6ed5bea9",
   "metadata": {},
   "outputs": [],
   "source": [
    "# initialize an empty list to store the history of credits based recommended movies \n",
    "credit_history = []"
   ]
  },
  {
   "cell_type": "code",
   "execution_count": null,
   "id": "fdde54f9",
   "metadata": {},
   "outputs": [],
   "source": [
    "def creditHistory(recommended_movies):\n",
    "    # extend the 'credit_history' list with the list of recommended movies\n",
    "    credit_history.extend(recommended_movies)\n",
    "\n",
    "# user input for enter a movie title\n",
    "movie_to_get_credit_recommendations = input(\"Please enter a movie title to get credit-based recommendations: \")\n",
    "\n",
    "# Get recommendations based on movie credits\n",
    "recommended_movies_by_credits = recommend_by_credits(movie_to_get_credit_recommendations, similarity)\n",
    "\n",
    "if recommended_movies_by_credits:\n",
    "    # Print the recommended movies based on credits\n",
    "    print(f\"\\nRecommended Movies based on credits for {movie_to_get_credit_recommendations}:\")\n",
    "    for movie in recommended_movies_by_credits:\n",
    "        print(movie)\n",
    "    \n",
    "    # Save recommended movies to credit history\n",
    "    creditHistory(recommended_movies_by_credits)\n",
    "    "
   ]
  },
  {
   "cell_type": "code",
   "execution_count": null,
   "id": "2a27860a",
   "metadata": {},
   "outputs": [],
   "source": [
    "# call credit_history function\n",
    "credit_history"
   ]
  },
  {
   "cell_type": "markdown",
   "id": "44c0314e",
   "metadata": {},
   "source": [
    "# Get Accuracy of Recommended Movies based on credits."
   ]
  },
  {
   "cell_type": "code",
   "execution_count": null,
   "id": "7f8267af",
   "metadata": {},
   "outputs": [],
   "source": [
    "# prompt the user to enter a movie title\n",
    "movie_to_get_credit_recommendations = input(\"Please enter a movie title to get credit-based recommendations: \")\n",
    "\n",
    "# Get recommendations based on movie credits\n",
    "recommended_movies_by_credits = recommend_by_credits(movie_to_get_credit_recommendations, similarity)\n",
    "\n",
    "# Calculate accuracy\n",
    "accuracy = calculate_accuracy(recommended_movies_by_credits, recommended_movies_by_credits)\n",
    "\n",
    "# Print the accuracy\n",
    "print(f\"Accuracy: {accuracy}\")\n"
   ]
  },
  {
   "cell_type": "code",
   "execution_count": null,
   "id": "8e9b2644",
   "metadata": {},
   "outputs": [],
   "source": [
    "# function to calculate precision, recall, and F1 score\n",
    "def calculate_metrics(ground_truth, recommendations):\n",
    "    true_positives = len(set(ground_truth).intersection(recommendations))\n",
    "    false_positives = len(recommendations) - true_positives\n",
    "    false_negatives = len(ground_truth) - true_positives\n",
    "    \n",
    "    # calculate precision\n",
    "    precision = true_positives / (true_positives + false_positives) if (true_positives + false_positives) > 0 else 0\n",
    "    \n",
    "    # calculate recall\n",
    "    recall = true_positives / (true_positives + false_negatives) if (true_positives + false_negatives) > 0 else 0\n",
    "    \n",
    "    # calculate F1_score\n",
    "    f1_score = 2 * (precision * recall) / (precision + recall) if (precision + recall) > 0 else 0\n",
    "    \n",
    "    return precision, recall, f1_score\n",
    "\n",
    "\n",
    "# Ask the user for their movie preferences\n",
    "movie_to_get_credit_recommendations = input(\"Please enter a movie title to get credit-based recommendations: \")\n",
    "\n",
    "# Get recommendations based on movie credits\n",
    "recommended_movies_by_credits = recommend_by_credits(movie_to_get_credit_recommendations, similarity)\n",
    "\n",
    "# Calculate metrics\n",
    "precision, recall, f1_score = calculate_metrics(recommended_movies_by_credits, recommended_movies_by_credits)\n",
    "\n",
    "# Print the metrics\n",
    "print(f\"Precision: {precision}\")\n",
    "print(f\"Recall: {recall}\")\n",
    "print(f\"F1 Score: {f1_score}\")\n"
   ]
  },
  {
   "cell_type": "markdown",
   "id": "f8be7d99",
   "metadata": {},
   "source": [
    "# Recommended Movies based on Vote_Count"
   ]
  },
  {
   "cell_type": "code",
   "execution_count": null,
   "id": "2d02754c",
   "metadata": {},
   "outputs": [],
   "source": [
    "# function of recommended movies based on vote count\n",
    "def recommend_movies_by_vote_count(movie_title, movies):\n",
    "    # Filter movies based on the entered title\n",
    "    selected_movie = movies[movies['title'] == movie_title]\n",
    "\n",
    "    if not selected_movie.empty:\n",
    "        # Sort movies by descending order of vote_count\n",
    "        recommended_by_vote_count = movies.sort_values(by='vote_count', ascending=False)\n",
    "\n",
    "        # Get the top 5 movies with highest vote_count\n",
    "        recommended_by_vote_count = recommended_by_vote_count.head(5)\n",
    "        \n",
    "        print()\n",
    "\n",
    "        # Print the recommended movies based on vote_count\n",
    "        print(f\"Recommended Movies based on vote_count for {movie_title}:\")\n",
    "        for movie_title in recommended_by_vote_count['title']:\n",
    "            print(movie_title)\n",
    "    else:\n",
    "        print(f\"Movie '{movie_title}' not found in the dataset.\")\n",
    "\n",
    "movie_title_input = input(\"Enter a movie title: \")\n",
    "recommend_movies_by_vote_count(movie_title_input, movies)\n"
   ]
  },
  {
   "cell_type": "code",
   "execution_count": null,
   "id": "77fe8ed3",
   "metadata": {},
   "outputs": [],
   "source": []
  }
 ],
 "metadata": {
  "kernelspec": {
   "display_name": "Python 3 (ipykernel)",
   "language": "python",
   "name": "python3"
  },
  "language_info": {
   "codemirror_mode": {
    "name": "ipython",
    "version": 3
   },
   "file_extension": ".py",
   "mimetype": "text/x-python",
   "name": "python",
   "nbconvert_exporter": "python",
   "pygments_lexer": "ipython3",
   "version": "3.11.5"
  }
 },
 "nbformat": 4,
 "nbformat_minor": 5
}
